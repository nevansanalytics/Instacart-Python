{
 "cells": [
  {
   "cell_type": "markdown",
   "id": "7e11f3d9",
   "metadata": {},
   "source": [
    "# 01. Importing Libraries"
   ]
  },
  {
   "cell_type": "code",
   "execution_count": 1,
   "id": "f2ba2be7",
   "metadata": {},
   "outputs": [],
   "source": [
    "# Import libraries\n",
    "import pandas as pd\n",
    "import numpy as np\n",
    "import os"
   ]
  },
  {
   "cell_type": "markdown",
   "id": "f3e2a065",
   "metadata": {},
   "source": [
    "## 02. Data Types"
   ]
  },
  {
   "cell_type": "markdown",
   "id": "3fb824d4",
   "metadata": {},
   "source": [
    "### Integers"
   ]
  },
  {
   "cell_type": "code",
   "execution_count": 2,
   "id": "d42fbbfd",
   "metadata": {},
   "outputs": [],
   "source": [
    "x = 2"
   ]
  },
  {
   "cell_type": "code",
   "execution_count": 3,
   "id": "977052cc",
   "metadata": {},
   "outputs": [
    {
     "data": {
      "text/plain": [
       "2"
      ]
     },
     "execution_count": 3,
     "metadata": {},
     "output_type": "execute_result"
    }
   ],
   "source": [
    "x"
   ]
  },
  {
   "cell_type": "code",
   "execution_count": 4,
   "id": "a2ff0914",
   "metadata": {},
   "outputs": [
    {
     "name": "stdout",
     "output_type": "stream",
     "text": [
      "2\n"
     ]
    }
   ],
   "source": [
    "print(x)"
   ]
  },
  {
   "cell_type": "code",
   "execution_count": 5,
   "id": "21eb83d3",
   "metadata": {},
   "outputs": [
    {
     "data": {
      "text/plain": [
       "int"
      ]
     },
     "execution_count": 5,
     "metadata": {},
     "output_type": "execute_result"
    }
   ],
   "source": [
    "type(x)"
   ]
  },
  {
   "cell_type": "markdown",
   "id": "ad01072d",
   "metadata": {},
   "source": [
    "### Flating-Point Numbers"
   ]
  },
  {
   "cell_type": "code",
   "execution_count": 6,
   "id": "02d35f42",
   "metadata": {},
   "outputs": [],
   "source": [
    "y = 5.678"
   ]
  },
  {
   "cell_type": "code",
   "execution_count": 7,
   "id": "09514d1c",
   "metadata": {},
   "outputs": [
    {
     "data": {
      "text/plain": [
       "5.678"
      ]
     },
     "execution_count": 7,
     "metadata": {},
     "output_type": "execute_result"
    }
   ],
   "source": [
    "y"
   ]
  },
  {
   "cell_type": "code",
   "execution_count": 8,
   "id": "da9b2a96",
   "metadata": {},
   "outputs": [
    {
     "data": {
      "text/plain": [
       "float"
      ]
     },
     "execution_count": 8,
     "metadata": {},
     "output_type": "execute_result"
    }
   ],
   "source": [
    "type(y)"
   ]
  },
  {
   "cell_type": "markdown",
   "id": "3400c3e2",
   "metadata": {},
   "source": [
    "### Strings"
   ]
  },
  {
   "cell_type": "code",
   "execution_count": 9,
   "id": "871cb59e",
   "metadata": {},
   "outputs": [],
   "source": [
    "z = 'Brazil'"
   ]
  },
  {
   "cell_type": "code",
   "execution_count": 10,
   "id": "60aa050b",
   "metadata": {},
   "outputs": [
    {
     "data": {
      "text/plain": [
       "'Brazil'"
      ]
     },
     "execution_count": 10,
     "metadata": {},
     "output_type": "execute_result"
    }
   ],
   "source": [
    "z"
   ]
  },
  {
   "cell_type": "code",
   "execution_count": 11,
   "id": "fcfee591",
   "metadata": {},
   "outputs": [
    {
     "data": {
      "text/plain": [
       "str"
      ]
     },
     "execution_count": 11,
     "metadata": {},
     "output_type": "execute_result"
    }
   ],
   "source": [
    "type(z)"
   ]
  },
  {
   "cell_type": "markdown",
   "id": "032a46e2",
   "metadata": {},
   "source": [
    "### Boolean"
   ]
  },
  {
   "cell_type": "code",
   "execution_count": 12,
   "id": "f4813eec",
   "metadata": {},
   "outputs": [
    {
     "data": {
      "text/plain": [
       "bool"
      ]
     },
     "execution_count": 12,
     "metadata": {},
     "output_type": "execute_result"
    }
   ],
   "source": [
    "type(True)"
   ]
  },
  {
   "cell_type": "code",
   "execution_count": 13,
   "id": "ade40aea",
   "metadata": {},
   "outputs": [
    {
     "data": {
      "text/plain": [
       "bool"
      ]
     },
     "execution_count": 13,
     "metadata": {},
     "output_type": "execute_result"
    }
   ],
   "source": [
    "type(False)"
   ]
  },
  {
   "cell_type": "markdown",
   "id": "b5bed1a3",
   "metadata": {},
   "source": [
    "#### Integers and Floats"
   ]
  },
  {
   "cell_type": "code",
   "execution_count": 14,
   "id": "cfa77a51",
   "metadata": {},
   "outputs": [
    {
     "name": "stdout",
     "output_type": "stream",
     "text": [
      "2\n"
     ]
    }
   ],
   "source": [
    "print(x)"
   ]
  },
  {
   "cell_type": "code",
   "execution_count": 15,
   "id": "fd48ca16",
   "metadata": {},
   "outputs": [
    {
     "data": {
      "text/plain": [
       "6"
      ]
     },
     "execution_count": 15,
     "metadata": {},
     "output_type": "execute_result"
    }
   ],
   "source": [
    "x + 4"
   ]
  },
  {
   "cell_type": "code",
   "execution_count": 16,
   "id": "afe5f1a2",
   "metadata": {},
   "outputs": [
    {
     "data": {
      "text/plain": [
       "7.678"
      ]
     },
     "execution_count": 16,
     "metadata": {},
     "output_type": "execute_result"
    }
   ],
   "source": [
    "x + y"
   ]
  },
  {
   "cell_type": "code",
   "execution_count": 17,
   "id": "429c7ded",
   "metadata": {},
   "outputs": [
    {
     "name": "stdout",
     "output_type": "stream",
     "text": [
      "6\n"
     ]
    }
   ],
   "source": [
    "# Redefine x\n",
    "x = x + 4\n",
    "print(x)"
   ]
  },
  {
   "cell_type": "markdown",
   "id": "33b3fd9c",
   "metadata": {},
   "source": [
    "### Strings"
   ]
  },
  {
   "cell_type": "code",
   "execution_count": 18,
   "id": "e2094504",
   "metadata": {},
   "outputs": [],
   "source": [
    "a = 'Hello, '"
   ]
  },
  {
   "cell_type": "code",
   "execution_count": 19,
   "id": "bd0fabb4",
   "metadata": {},
   "outputs": [],
   "source": [
    "b = 'Marley'"
   ]
  },
  {
   "cell_type": "code",
   "execution_count": 20,
   "id": "0af5ea01",
   "metadata": {},
   "outputs": [
    {
     "data": {
      "text/plain": [
       "'Hello, Marley'"
      ]
     },
     "execution_count": 20,
     "metadata": {},
     "output_type": "execute_result"
    }
   ],
   "source": [
    "#Concatenation\n",
    "a + b"
   ]
  },
  {
   "cell_type": "code",
   "execution_count": 21,
   "id": "1fb6f234",
   "metadata": {},
   "outputs": [],
   "source": [
    "n = 'potato'"
   ]
  },
  {
   "cell_type": "code",
   "execution_count": 22,
   "id": "39de35f6",
   "metadata": {},
   "outputs": [
    {
     "data": {
      "text/plain": [
       "'potatopotatopotatopotatopotatopotatopotatopotatopotatopotatopotatopotato'"
      ]
     },
     "execution_count": 22,
     "metadata": {},
     "output_type": "execute_result"
    }
   ],
   "source": [
    "#Multiplication\n",
    "n * 12"
   ]
  },
  {
   "cell_type": "markdown",
   "id": "75eee28c",
   "metadata": {},
   "source": [
    "### Booleans"
   ]
  },
  {
   "cell_type": "code",
   "execution_count": 23,
   "id": "cadbbf68",
   "metadata": {},
   "outputs": [
    {
     "data": {
      "text/plain": [
       "False"
      ]
     },
     "execution_count": 23,
     "metadata": {},
     "output_type": "execute_result"
    }
   ],
   "source": [
    "# Boolean data types are interesting in that you don’t use them to perform operations the way you’d use numerical or textual data. Instead, they’re usually the result of an operation, letting you know whether a statement is true or false. Let’s take a look at an example. Your x variable should now have a value of 6, and your y variable should still have a value of 5.678. Let’s set up an equation checking whether these two variables are equal in value:\n",
    "x == y"
   ]
  },
  {
   "cell_type": "code",
   "execution_count": 24,
   "id": "fa3bdc84",
   "metadata": {},
   "outputs": [
    {
     "data": {
      "text/plain": [
       "bool"
      ]
     },
     "execution_count": 24,
     "metadata": {},
     "output_type": "execute_result"
    }
   ],
   "source": [
    "type (x == y)"
   ]
  },
  {
   "cell_type": "markdown",
   "id": "4736a54d",
   "metadata": {},
   "source": [
    "# Working with Python Data Types"
   ]
  },
  {
   "cell_type": "markdown",
   "id": "4fca9e91",
   "metadata": {},
   "source": [
    "### Code 3 different ways of reaching a result of 100 by adding or subtracting numeric variables."
   ]
  },
  {
   "cell_type": "code",
   "execution_count": 25,
   "id": "01618c1e",
   "metadata": {},
   "outputs": [
    {
     "data": {
      "text/plain": [
       "100"
      ]
     },
     "execution_count": 25,
     "metadata": {},
     "output_type": "execute_result"
    }
   ],
   "source": [
    "h = 40\n",
    "i = 60\n",
    "h + i"
   ]
  },
  {
   "cell_type": "code",
   "execution_count": 26,
   "id": "9e9a9396",
   "metadata": {},
   "outputs": [
    {
     "name": "stdout",
     "output_type": "stream",
     "text": [
      "100\n"
     ]
    }
   ],
   "source": [
    "result = 50 + 30 - 10 + 5 + 25\n",
    "print(result)"
   ]
  },
  {
   "cell_type": "code",
   "execution_count": 27,
   "id": "62cb6ead",
   "metadata": {},
   "outputs": [
    {
     "data": {
      "text/plain": [
       "100"
      ]
     },
     "execution_count": 27,
     "metadata": {},
     "output_type": "execute_result"
    }
   ],
   "source": [
    "j = (-30)\n",
    "k = (130)\n",
    "j + k"
   ]
  },
  {
   "cell_type": "code",
   "execution_count": 28,
   "id": "88b33f06",
   "metadata": {},
   "outputs": [
    {
     "data": {
      "text/plain": [
       "int"
      ]
     },
     "execution_count": 28,
     "metadata": {},
     "output_type": "execute_result"
    }
   ],
   "source": [
    "type(j + k)"
   ]
  },
  {
   "cell_type": "markdown",
   "id": "fde433a3",
   "metadata": {},
   "source": [
    "### Code 2 floating-point variables and divide them by each other."
   ]
  },
  {
   "cell_type": "code",
   "execution_count": 29,
   "id": "45eef231",
   "metadata": {},
   "outputs": [
    {
     "data": {
      "text/plain": [
       "2.7777777777777777"
      ]
     },
     "execution_count": 29,
     "metadata": {},
     "output_type": "execute_result"
    }
   ],
   "source": [
    "l = 12.5\n",
    "m = 4.5\n",
    "l / m"
   ]
  },
  {
   "cell_type": "code",
   "execution_count": 30,
   "id": "07d2f23e",
   "metadata": {},
   "outputs": [
    {
     "data": {
      "text/plain": [
       "float"
      ]
     },
     "execution_count": 30,
     "metadata": {},
     "output_type": "execute_result"
    }
   ],
   "source": [
    "type (l/m)"
   ]
  },
  {
   "cell_type": "code",
   "execution_count": 31,
   "id": "88b2e367",
   "metadata": {},
   "outputs": [
    {
     "data": {
      "text/plain": [
       "'Pythons and Anacondas are types of snakes, but also coding tools.'"
      ]
     },
     "execution_count": 31,
     "metadata": {},
     "output_type": "execute_result"
    }
   ],
   "source": [
    "n = 'Pythons and Anacondas'\n",
    "o = ' are types of '\n",
    "p = 'snakes, but also coding tools.'\n",
    "n + o + p"
   ]
  },
  {
   "cell_type": "code",
   "execution_count": 32,
   "id": "1256f4cc",
   "metadata": {},
   "outputs": [
    {
     "name": "stdout",
     "output_type": "stream",
     "text": [
      "Hello, Victor! Hello, Victor! Hello, Victor! Hello, Victor! Hello, Victor! Hello, Victor! Hello, Victor! Hello, Victor! Hello, Victor! Hello, Victor! Hello, Victor! Hello, Victor! Hello, Victor! Hello, Victor! Hello, Victor! Hello, Victor! Hello, Victor! Hello, Victor! Hello, Victor! Hello, Victor! Hello, Victor! Hello, Victor! Hello, Victor! Hello, Victor! Hello, Victor! Hello, Victor! Hello, Victor! Hello, Victor! Hello, Victor! Hello, Victor! Hello, Victor! Hello, Victor! Hello, Victor! Hello, Victor! Hello, Victor! Hello, Victor! Hello, Victor! Hello, Victor! Hello, Victor! Hello, Victor! Hello, Victor! Hello, Victor! Hello, Victor! Hello, Victor! Hello, Victor! Hello, Victor! Hello, Victor! Hello, Victor! Hello, Victor! Hello, Victor! Hello, Victor! Hello, Victor! Hello, Victor! Hello, Victor! Hello, Victor! Hello, Victor! Hello, Victor! Hello, Victor! Hello, Victor! Hello, Victor! Hello, Victor! Hello, Victor! Hello, Victor! Hello, Victor! Hello, Victor! Hello, Victor! Hello, Victor! Hello, Victor! Hello, Victor! Hello, Victor! Hello, Victor! Hello, Victor! Hello, Victor! Hello, Victor! Hello, Victor! Hello, Victor! Hello, Victor! Hello, Victor! Hello, Victor! Hello, Victor! Hello, Victor! Hello, Victor! Hello, Victor! Hello, Victor! Hello, Victor! Hello, Victor! Hello, Victor! Hello, Victor! Hello, Victor! Hello, Victor! Hello, Victor! Hello, Victor! Hello, Victor! Hello, Victor! Hello, Victor! Hello, Victor! Hello, Victor! Hello, Victor! Hello, Victor! Hello, Victor! \n"
     ]
    }
   ],
   "source": [
    "#### Bonus! Include a command that makes a string appear 100 times.\n",
    "bonus_string = \"Hello, Victor! \"\n",
    "print(bonus_string * 100)"
   ]
  },
  {
   "cell_type": "code",
   "execution_count": null,
   "id": "414f4e0a",
   "metadata": {},
   "outputs": [],
   "source": []
  }
 ],
 "metadata": {
  "kernelspec": {
   "display_name": "Python 3 (ipykernel)",
   "language": "python",
   "name": "python3"
  },
  "language_info": {
   "codemirror_mode": {
    "name": "ipython",
    "version": 3
   },
   "file_extension": ".py",
   "mimetype": "text/x-python",
   "name": "python",
   "nbconvert_exporter": "python",
   "pygments_lexer": "ipython3",
   "version": "3.11.4"
  }
 },
 "nbformat": 4,
 "nbformat_minor": 5
}
